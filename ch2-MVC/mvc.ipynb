{
 "cells": [
  {
   "cell_type": "markdown",
   "metadata": {},
   "source": [
    "![cabecera](https://cfbv.neocities.org/images/aux/header.png)\n",
    "\n",
    "# Patrones de Diseño - Modelo-Vista-Controlador\n",
    "\n",
    "\n",
    "\n",
    "---\n",
    "## ¿Qué haremos en esta Clase\n",
    "\n",
    "- Introducir el concepto de Patrones de Diseño en el ámbito del desarrollo de Software.\n",
    "- Introducir el patrón arquitectural Modelo - Vista - Controlador.\n",
    "- Proponer un ejercicio evaluado cuya resolución cubra los temas aquí tratados.\n",
    " \n",
    "---\n"
   ]
  },
  {
   "cell_type": "markdown",
   "metadata": {},
   "source": [
    "## 1 Patrones de Diseño.\n",
    "La aproximación inicial al desarrollo de la solución a un problema suele ser confuso cuando su contexto es nuevo.  Afortunadamente, en programación este contexto, varios de los problemas que presentan y su solución ya han sido manejados y eficientemente solventados; al punto de que, este conocimiento se ha estandarizado como una forma de solución casi universal a varios problemas de desarrollo de Software.  \n",
    "\n",
    "### 1.1 Definición\n",
    "Un patrón de diseño es un conjunto de estándares y soluciones reutilizables a problemas de común ocurrencia en el marco del diseño de software.  Resumiendo, **son formas “estandarizadas” de resolver problemas comunes de diseño en el desarrollo de software.**\n",
    "\n",
    "Los patrones de diseño partieron de la ejecución sistemática de buenas prácticas, validando consecutivamente su idoneidad en la distribución de responsabilidades y en la forma de resolver problemas.\n",
    "\n",
    "### 1.2 Utilidad\n",
    "\n",
    "Permiten tener el código bien organizado y en consecuencia, legible y mantenible. Además facilita la reutilización de código y aumenta la escalabilidad del proyecto.\n",
    "\n",
    "En sí, proporcionan una terminología estándar y un conjunto de buenas prácticas en cuanto a la solución de problemas de desarrollo de software.\n",
    "\n",
    "Las ventajas del uso de patrones son evidentes:\n",
    "- Conforman un amplio catálogo de problemas y soluciones\n",
    "- Estandarizan la resolución de determinados problemas\n",
    "- Condensan y simplifican el aprendizaje de las buenas prácticas\n",
    "- Proporcionan un vocabulario común entre desarrolladores\n",
    "- Evitan “reinventar la rueda”"
   ]
  },
  {
   "cell_type": "markdown",
   "metadata": {},
   "source": [
    "## 2 Modelo Vista Controlador\n",
    "El Modelo-Vista-Controlador (MVC) es un patrón de arquitectura, de amplia adopción en aplicaciones web, que divide las tareas de un sistema en tres entidades interconectadas con el fin de separar la lógica de la interfaz de usuario de la lógica del sistema o modelo de negocio. Así, estas entidades pueden ser reutilizadas eficientemente e implementar con ellas el desarrollo paralelo. \n",
    "Esta forma de distribuir responsabilidades separa, en función de los datos, el mecanismo de trato y manipulación del mecanismo de presentación. Entonces, el Controlador funciona entre la Vista y el Modelo. \n",
    "Una [simplificación](https://wiki.c2.com/?ModelViewController) efectiva sobre el patron MVC la dio el cientifico de datos de la U. de Virginia [Connelly Barnes](https://github.com/connellybarnes?tab=repositories):\"El Modelo son los datos, la Vista las presentaciones en pantalla y el Controlador el pegamento entre ellos.\"\n",
    "\n",
    "**El modelo** administra los datos y la lógica de la aplicación. Las funciones que ejecutan la solución de los problemas que debe tratar el desarrollo van programadas aquí y solo aquí.\n",
    "\n",
    "Además, es el único responsable de interactuar directamente con la Base de Datos.\n",
    "El modelo, puede ser también definido por lo que no es su responsabilidad: *El modelo no interactúa con el usuario de la aplicación, no muestra ni procesa pantallas, no muestra mensajes ni renderiza imágenes.*\n",
    " \n",
    "La inclusión de directivas que interactuen con el usuario violan el fundamento del patrón. \n",
    "\n",
    "**La vista** es la capa de presentación del sistema. Contiene la lógica necesaria para mostrar e interactuar con el usuario, y nada más.  No tiene intervención alguna de cómo el modelo trata y procesa los datos de la aplicación.  Puede ser una salida por consola, html etc.\n",
    "\n",
    "Finalmente, **el Controlador** es el intermediario; procesa las entradas del usuario que vienen  desde la vista y las dirige al modelo.  Cuando este responde, envía estos datos a la vista.  \n",
    "\n",
    "![mvc](./images/mvc.jpg)\n",
    "\n",
    ">En el ámbito del desarrollo web, la programación que aborda la lógica en el Controlador y en el Modelo es el Desarrollo Backend y en la Vista en [Desarrollo Frontend](https://es.wikipedia.org/wiki/Front_end_y_back_end).\n",
    "\n",
    "\n",
    "\n",
    "\n"
   ]
  },
  {
   "cell_type": "markdown",
   "metadata": {},
   "source": [
    "### 2.1 Ejemplo \n",
    "Implementemos  el patron MVC con un ejemplo:"
   ]
  },
  {
   "cell_type": "code",
   "execution_count": null,
   "metadata": {},
   "outputs": [],
   "source": [
    "#!/usr/bint/python3\n",
    "import controller\n",
    "\n",
    "\n",
    "def main():\n",
    "    vControlador = controller.axiomaTerminalController()\n",
    "    vControlador.run()\n",
    "\n",
    "\n",
    "if __name__ == '__main__':\n",
    "    main()"
   ]
  },
  {
   "cell_type": "markdown",
   "metadata": {},
   "source": [
    "En python, la variable `__name__` obtiene su valor de acuerdo a la forma en que es ejecutado el script. Si es ejecutado directamente el valor que tiene es: `__main__`"
   ]
  },
  {
   "cell_type": "markdown",
   "metadata": {},
   "source": [
    "#### 2.1.1 El Modelo\n",
    "Esta capa del patrón MVC debe ser lo más minimalista posible, limitandose solo a la lógica de la aplicación que esta en desarrollo.  En nuestro ejemplo, solo consiste en un método (`obtenerAxioma(self,vNroEscogido)`) que toma el string de la lista `vAxiomas` indicado por el parámetro `vNroEscogido`.\n",
    "\n",
    "El fundamento del patrón MVC indica que, es el Módelo la capa que interactua con la Base de Datos.  En nuestro ejemplo, esto lo estamos simulando con el uso de la lista `vAxiomas`.  En la vida real, aquí ud. tendrá que especificar un string de conexión a la Base de datos que incluye los parámetros y credenciales para esto, además de las consultas a la misma (programación 3)."
   ]
  },
  {
   "cell_type": "code",
   "execution_count": null,
   "metadata": {},
   "outputs": [],
   "source": [
    "#!/usr/bin/python3\n",
    "\n",
    "vAxiomas = [\"Entre tres puntos, solo pasa una línea recta\", \"Una proposición no puede ser verdadera y falsa al mismo tiempo\", \"Si dos números naturales tienen el mismo sucesor, esos dos números son el mismo número.\",\n",
    "            \"Todas las rectas tienen una cantidad infinita de puntos.\", \"Dos rectas paralelas nunca se tocan\", \"Dos líneas rectas nunca encierran algo.\"]\n",
    "\n",
    "\n",
    "class axiomaModel:\n",
    "    def obtenerAxioma(self, vNroEscogido):\n",
    "        vResult = vAxiomas[vNroEscogido]\n",
    "        return vResult\n"
   ]
  },
  {
   "cell_type": "markdown",
   "metadata": {},
   "source": [
    "#### 2.1.2 La Vista\n",
    "La vista incluye dos métodos `escojeAxioma` y `mostrar`. El primero, solicita al usuario la selección del nro. del axioma que quiere sea mostrado.  `mostrar` imprime el string que fue seleccionado de la lista `vAxiomas` en el Modelo y enviado como parámetro por el Controlador."
   ]
  },
  {
   "cell_type": "code",
   "execution_count": null,
   "metadata": {},
   "outputs": [],
   "source": [
    "#!/usr/bin/python3\n",
    "\n",
    "class vistaAxiomasPorTerminal:\n",
    "    def mostrar(self, vAxioma):\n",
    "        print(\"y el axioma es: \", vAxioma)\n",
    "\n",
    "    def escojeAxioma(self):\n",
    "        vResult = None\n",
    "        vResult = input(\"Tipee el nro. de axioma que quiere ver: \")\n",
    "        return vResult\n",
    "\n",
    "\n",
    "class vistaAxiomasHTML:\n",
    "    def mostrar(self, vAxioma):\n",
    "        vArchivoHtml = open('vistaMVC.html', 'w')\n",
    "\n",
    "        vPlantilla = \"\"\"\n",
    "        <html>\n",
    "        <head>\n",
    "        <title> Telematica - Prog2 </title>\n",
    "        </head>\n",
    "        <body> \n",
    "        <h1>Modelo-Vista-Controlador (MVC)</h1>\n",
    "        <h2>Vista html</h2>\n",
    "        <table border=\"1\">\n",
    "        <tbody>\n",
    "        <tr>\n",
    "        <td>y el Axioma es: </td>\n",
    "        </tr>\n",
    "        <tr>\n",
    "        <td>        \n",
    "        \"\"\"\n",
    "        vPlantilla += vAxioma\n",
    "        vPlantilla += \"\"\"\n",
    "        </td>\n",
    "        </tr>\n",
    "        </tbody>\n",
    "        </table>\n",
    "        </body>\n",
    "        </html>\n",
    "        \"\"\"\n",
    "\n",
    "        vArchivoHtml.write(vPlantilla)\n",
    "        vArchivoHtml.close()\n",
    "\n",
    "    def escojeAxioma(self):\n",
    "        vResult = None\n",
    "        vResult = input(\"Tipee el nro. de axioma que quiere ver: \")\n",
    "        return vResult\n"
   ]
  },
  {
   "cell_type": "markdown",
   "metadata": {},
   "source": [
    "#### 2.1.3 El Controlador\n",
    "En el Controlador se realiza la coordinación entre la vista y el modelo.  En nuestro ejemplo, el constructor de la clase inicializa los parámetros `model` y `view`  con los objetos `modelo.axiomaModel()` y `vista.vistaAxiomasPorTerminal()` respectivamente.\n",
    "\n",
    "El método `run` ejecuta la sincronización entre la Vista y el Módelo a través del paso y tratamiento de los valores.  Nótese que la conversión a entero del nro. de axioma seleccionado se realiza en el Controlador y no en la Vista."
   ]
  },
  {
   "cell_type": "code",
   "execution_count": null,
   "metadata": {},
   "outputs": [],
   "source": [
    "#!/usr/bin/python3\n",
    "import modelo\n",
    "import vista\n",
    "\n",
    "\n",
    "class axiomaTerminalController:\n",
    "    def __init__(self):\n",
    "        self.model = modelo.axiomaModel()\n",
    "        self.view = vista.vistaAxiomasPorTerminal()\n",
    "\n",
    "    def run(self):\n",
    "        vNroDeAxiomaEscogido = int(self.view.escojeAxioma())\n",
    "        vAxioma = self.model.obtenerAxioma(vNroDeAxiomaEscogido)\n",
    "        self.view.mostrar(vAxioma)\n"
   ]
  },
  {
   "cell_type": "markdown",
   "metadata": {},
   "source": [
    "## 3 Consideraciones\n",
    "Es norma general, al implementar un sistema bajo el patron MVC las siguientes consideraciones:\n",
    "\n",
    "**El Modelo debe ser lo más ingenioso posible, esto es por que:**\n",
    "- La lógica y reglas del negocio se ejecutan aquí.\n",
    "- Tiene acceso a los datos del Sistema/App.\n",
    "- No depende de la Interfaz Gráfica de Usuario (UI).\n",
    "  \n",
    "**El Controlador debe hacerlo lo más ligero posible, esto es por que:**\n",
    "- Actualiza el Modelo cuando el usuario interactua con la Vista.\n",
    "- Actualiza la Vista cuando el Modelo cambia.\n",
    "- Procesa los datos antes de despacharlos al Modelo/Vista.\n",
    "- No muestra los Datos.\n",
    "- No tiene acceso directo a los Datos del Sistema/App.\n",
    "  \n",
    "**La Vista debe hacerla lo más simple posible, esto es por que:**\n",
    "- Solo muestra y Datos.\n",
    "- Solo interactua con el usuario.\n",
    "- No almacena Datos.\n",
    "- No tiene acceso directo a los Datos del Sistema/App.\n",
    "- No ejecuta ni la lógica ni las reglas del negocio."
   ]
  },
  {
   "cell_type": "markdown",
   "metadata": {},
   "source": [
    "## 4 Actividades (evaluadas)\n",
    "\n",
    "\n",
    "- Haga este ejemplo más amigable al limitar que los valores posibles de entrada sean mayores o iguales a 1 y que no sea necesario introducir '0' para ver el primer axioma de la lista. (2pts)\n",
    "- En el ejemplo, mejore la Vista al añadir los conceptos de herencia y polimorfismo de la OOP. (3pts)\n",
    "\n",
    "\n",
    "<table>\n",
    "<tbody>\n",
    "<tr>\n",
    "<td>\n",
    "<div>\n",
    "<div>\n",
    "<div>\n",
    "<div>&nbsp;</div>\n",
    "<div>La entrega de esta asignaci&oacute;n es exclusivamente en su repositorio github/gitlab.</div>\n",
    "<div>Las consultas se har&aacute;n &uacute;nicamente por correo a: carlosfranz@ucla.edu.ve con el hashtag en el asunto: **#teleprgm2**</div>\n",
    "<div>El lapso de entrega cierra el d&iacute;a lunes 13/03 a las 4:30pm.</div>\n",
    "<div>&nbsp;</div>\n",
    "</div>\n",
    "</div>\n",
    "</div>\n",
    "</td>\n",
    "</tr>\n",
    "</tbody>\n",
    "</table>"
   ]
  }
 ],
 "metadata": {
  "language_info": {
   "name": "python"
  },
  "orig_nbformat": 4
 },
 "nbformat": 4,
 "nbformat_minor": 2
}
