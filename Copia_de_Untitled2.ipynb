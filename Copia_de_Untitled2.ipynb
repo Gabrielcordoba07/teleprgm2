{
  "nbformat": 4,
  "nbformat_minor": 0,
  "metadata": {
    "colab": {
      "name": "Copia de Untitled2.ipynb",
      "provenance": [],
      "collapsed_sections": [],
      "include_colab_link": true
    },
    "kernelspec": {
      "name": "python3",
      "display_name": "Python 3"
    },
    "language_info": {
      "name": "python"
    }
  },
  "cells": [
    {
      "cell_type": "markdown",
      "metadata": {
        "id": "view-in-github",
        "colab_type": "text"
      },
      "source": [
        "<a href=\"https://colab.research.google.com/github/Gabrielcordoba07/teleprgm2/blob/main/Copia_de_Untitled2.ipynb\" target=\"_parent\"><img src=\"https://colab.research.google.com/assets/colab-badge.svg\" alt=\"Open In Colab\"/></a>"
      ]
    },
    {
      "cell_type": "code",
      "execution_count": null,
      "metadata": {
        "id": "izVo2ik-3f7O"
      },
      "outputs": [],
      "source": [
        "import datetime\n",
        "\n",
        "vAlmacenDeDatos = {\n",
        "    'empleado': {\n",
        "        'almacenista': [\n",
        "            {\n",
        "                \"ci\": \"20111222\", \"nombre\": \"Truman\", \"apellido\": \"Capote\", \"salario\": 7, \"fechaDeNacimiento\": datetime.datetime(2012, 12, 20, 0, 0), \"fechaDeIngreso\": datetime.datetime(2012, 12, 20, 0, 0)},\n",
        "            {\n",
        "                \"ci\": \"20333444\", \"nombre\": \"Albert\", \"apellido\": \"Camus\", \"salario\": 4, \"fechaDeNacimiento\": datetime.datetime(2012, 12, 20, 0, 0), \"fechaDeIngreso\": datetime.datetime(2012, 12, 20, 0, 0)}],\n",
        "        'chofer': [\n",
        "            {\n",
        "                \"ci\": \"20555666\", \"nombre\": \"Gustav\", \"apellido\": \"Flaubert\", \"salario\": 3, \"fechaDeNacimiento\": datetime.datetime(2012, 12, 20, 0, 0), \"fechaDeIngreso\": datetime.datetime(2012, 12, 20, 0, 0)},\n",
        "            {\n",
        "                \"ci\": \"20777888\", \"nombre\": \"Emile\", \"apellido\": \"Cioran\", \"salario\": 4, \"fechaDeNacimiento\": datetime.datetime(2012, 12, 20, 0, 0), \"fechaDeIngreso\": datetime.datetime(2012, 12, 20, 0, 0)}],\n",
        "\n",
        "        'contador': [\n",
        "            {\n",
        "                \"ci\": \"12345678\", \"nombre\": \"Gustavo\", \"apellido\": \"Finrot\", \"salario\": 3, \"fechaDeNacimiento\": datetime.datetime(2012, 12, 20, 0, 0), \"fechaDeIngreso\": datetime.datetime(2012, 12, 20, 0, 0)},\n",
        "            {\n",
        "                \"ci\": \"22333666\", \"nombre\": \"Gilberto\", \"apellido\": \"Rodriguez\", \"salario\": 6, \"fechaDeNacimiento\": datetime.datetime(2012, 12, 20, 0, 0), \"fechaDeIngreso\": datetime.datetime(2012, 12, 20, 0, 0)}]\n",
        "  }\n",
        "}\n",
        "\n",
        "vDiccionarioTiposDeEmpleados = {\n",
        "    1: 'almacenista', 2: 'chofer', 3: 'contador'\n",
        "\n",
        "}"
      ]
    },
    {
      "cell_type": "code",
      "source": [
        "class Empleado():  # Super Clase o Clase Base\n",
        "    __salario = 0\n",
        "    nombre = None\n",
        "    apellido = None\n",
        "    fechaDeNacimiento = None\n",
        "    vFechaDeIngreso = None\n",
        "    vEmailPersonal = None\n",
        "    vEmailCorporativo = None\n",
        "    vCargo = None\n",
        "    vDepartamento = None\n",
        "\n",
        "    def __init__(self, vCedula, vTipoDeEmpleado):  # constructor de la superclase\n",
        "          self.cedulaDeIdentidad = vCedula\n",
        "          self.__tipoDeEmpleado = vTipoDeEmpleado\n",
        "          vDatosDelEmpleado = self.extraeDatosDelEmpleado(\n",
        "              vCedula, vTipoDeEmpleado)\n",
        "          if vDatosDelEmpleado != []:\n",
        "              self.nombre = vDatosDelEmpleado[1]\n",
        "              self.apellido = vDatosDelEmpleado[2]\n",
        "              self.__salario = vDatosDelEmpleado[3]\n",
        "              self.fechaDeNacimiento = vDatosDelEmpleado[4]\n",
        "          else:            \n",
        "              self.nombre = self.apellido = self.__salario = self.fechaDeNacimiento = \"Empleado no encontrado\"\n",
        "\n",
        "    def extraeDatosDelEmpleado(self, cedulaDeIdentidad, vTipoDeEmpleado):\n",
        "        vResult = []\n",
        "        vAlmacenistas = vAlmacenDeDatos['empleado'][vDiccionarioTiposDeEmpleados[int(\n",
        "            vTipoDeEmpleado)]]\n",
        "        for vIndex in vAlmacenistas:\n",
        "            if vIndex.get('ci') == cedulaDeIdentidad:\n",
        "                vResult = list(vIndex.values())\n",
        "            else:\n",
        "                pass\n",
        "        return vResult\n",
        "\n",
        "    def getSalary(self):\n",
        "      return f\"El empleado {self.nombre} {self.apellido} de Cédula de Identidad: {self.cedulaDeIdentidad} recibe un salario de: {self.__salario}\""
      ],
      "metadata": {
        "id": "mimLjkup4d_Y"
      },
      "execution_count": null,
      "outputs": []
    },
    {
      "cell_type": "code",
      "source": [
        "employee = Empleado(\"22333666\", 3)\n",
        "\n",
        "employee.getSalary()"
      ],
      "metadata": {
        "colab": {
          "base_uri": "https://localhost:8080/",
          "height": 70
        },
        "id": "SO80kygc6l0a",
        "outputId": "fe01fd83-3fe9-4046-b92a-12dc97f17368"
      },
      "execution_count": null,
      "outputs": [
        {
          "output_type": "execute_result",
          "data": {
            "text/plain": [
              "'El empleado Gilberto Rodriguez de Cédula de Identidad: 22333666 recibe un salario de: 6'"
            ],
            "application/vnd.google.colaboratory.intrinsic+json": {
              "type": "string"
            }
          },
          "metadata": {},
          "execution_count": 18
        }
      ]
    }
  ]
}